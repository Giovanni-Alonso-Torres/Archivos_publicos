{
 "cells": [
  {
   "cell_type": "code",
   "execution_count": 1,
   "id": "delayed-stability",
   "metadata": {},
   "outputs": [],
   "source": [
    "import random\n",
    "import numpy as np\n",
    "import matplotlib.pyplot as plt"
   ]
  },
  {
   "cell_type": "code",
   "execution_count": 2,
   "id": "massive-trial",
   "metadata": {},
   "outputs": [],
   "source": [
    "def f(N,R):                                 # Función que entrega las realizaciones R.\n",
    "\n",
    "    X = np.zeros((R,N+1))                   # Toda esta parte define la matriz X de salidas, donde\n",
    "    for i in range(R):                      # cada fila es la variable aleatoria vectorial X con\n",
    "        for j in range(N+1):                # entradas 1 y 0 (cambiamos -1 por 0).\n",
    "            if random.randint(0, 9) <= 4:   # Aquí introducimos la probabilidad 1/2 para 1 o 0.\n",
    "                X[i][j] = 1                 # Se definen las entradas\n",
    "\n",
    "    Y = np.zeros((R,N+1))                   # Definimos la matriz Y cuyos elementos serán los resultados\n",
    "    for i in range(R):                      # de las realizaciones, cada fila es una realización y cada\n",
    "        A = []                              # columna es el tiempo.\n",
    "        for j in range(N+1):\n",
    "            A.append(X[i][j])               # En el vector auxiliar A sirve para realizar la suma de\n",
    "            Y[i][j] = sum(A)                # los 1's hasta el tiempo t<=j.\n",
    "    return Y                                # Devuelve la matriz Y"
   ]
  },
  {
   "cell_type": "code",
   "execution_count": 4,
   "id": "native-scheme",
   "metadata": {},
   "outputs": [
    {
     "data": {
      "image/png": "[encoded data removed]",
      "text/plain": [
       "<Figure size 432x288 with 1 Axes>"
      ]
     },
     "metadata": {
      "needs_background": "light"
     },
     "output_type": "display_data"
    }
   ],
   "source": [
    "N = 6                                                         # Número de monedas a tirar\n",
    "R = 3                                                         # Número de realizaciones\n",
    "for i in range(R):                                            # Iteramos para graficar el número de realizaciones\n",
    "    plt.plot(range(N+1),f(N,R)[i],drawstyle = 'steps-post')   # Las gráficas se deben de visualizar como escalonadas"
   ]
  },
  {
   "cell_type": "markdown",
   "id": "martial-disability",
   "metadata": {},
   "source": [
    "Lo anterior es aleatorio, al correr la celda de código anterior se obtienen otras gráficas"
   ]
  },
  {
   "cell_type": "code",
   "execution_count": 5,
   "id": "valuable-stephen",
   "metadata": {},
   "outputs": [],
   "source": [
    "N = 6                      # Número de monedas a tirar\n",
    "R = 100000                 # Número de realizaciones para el promedio (¡cien mil!)\n",
    "T = np.transpose(f(N,R))   # El promedio se hace sobre las realizaciones a un mismo tiempo.\n",
    "                           # Dada la implementación de f(N,R), son las columnas las que se deben de promediar.\n",
    "                           # Por ello se toma la transpuesta, para promediar sobre las filas."
   ]
  },
  {
   "cell_type": "code",
   "execution_count": 6,
   "id": "focal-sessions",
   "metadata": {},
   "outputs": [],
   "source": [
    "P = np.zeros(N+1)        # P es el vector con los promedios a diferentes tiempos.\n",
    "for i in range(N+1):     # Para cada entrada (es decir, cada tiempo)\n",
    "    P[i] = sum(T[i])/R   # tomamos el promedio de la correspondiente fila de T"
   ]
  },
  {
   "cell_type": "code",
   "execution_count": 7,
   "id": "confident-blade",
   "metadata": {},
   "outputs": [
    {
     "data": {
      "text/plain": [
       "[<matplotlib.lines.Line2D at 0x2b12f404f10>]"
      ]
     },
     "execution_count": 7,
     "metadata": {},
     "output_type": "execute_result"
    },
    {
     "data": {
      "image/png": "[encoded data removed]",
      "text/plain": [
       "<Figure size 432x288 with 1 Axes>"
      ]
     },
     "metadata": {
      "needs_background": "light"
     },
     "output_type": "display_data"
    }
   ],
   "source": [
    "plt.plot(range(N+1),P,drawstyle = 'steps-post')   # Gráfica del promedio, tipo escalón"
   ]
  },
  {
   "cell_type": "code",
   "execution_count": null,
   "id": "dangerous-spoke",
   "metadata": {},
   "outputs": [],
   "source": []
  }
 ],
 "metadata": {
  "kernelspec": {
   "display_name": "Python 3",
   "language": "python",
   "name": "python3"
  },
  "language_info": {
   "codemirror_mode": {
    "name": "ipython",
    "version": 3
   },
   "file_extension": ".py",
   "mimetype": "text/x-python",
   "name": "python",
   "nbconvert_exporter": "python",
   "pygments_lexer": "ipython3",
   "version": "3.9.1"
  }
 },
 "nbformat": 4,
 "nbformat_minor": 5
}
