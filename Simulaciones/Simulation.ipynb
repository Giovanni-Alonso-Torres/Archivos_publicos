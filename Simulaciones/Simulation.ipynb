{
 "cells": [
  {
   "cell_type": "code",
   "execution_count": 1,
   "id": "d5108009",
   "metadata": {},
   "outputs": [],
   "source": [
    "import numpy as np\n",
    "from scipy.integrate import odeint\n",
    "import qutip as qt\n",
    "import matplotlib.pyplot as plt"
   ]
  },
  {
   "cell_type": "code",
   "execution_count": 81,
   "id": "d9757815",
   "metadata": {},
   "outputs": [],
   "source": [
    "ħ = 2\n",
    "k = 0.5\n",
    "v = np.linspace(-20,20,101)\n",
    "Ω = 7\n",
    "δ = -10\n",
    "δm = δ-k*v\n",
    "δp = δ+k*v\n",
    "Γ = 20"
   ]
  },
  {
   "cell_type": "code",
   "execution_count": 82,
   "id": "6e9dfc58",
   "metadata": {},
   "outputs": [],
   "source": [
    "g = qt.basis(2,0)\n",
    "e = qt.basis(2,1)\n",
    "σ = g*e.dag()\n",
    "L = Γ*qt.lindblad_dissipator(σ)"
   ]
  },
  {
   "cell_type": "code",
   "execution_count": 83,
   "id": "ed4fca99",
   "metadata": {},
   "outputs": [],
   "source": [
    "def H(Ω,δ):\n",
    "    return (ħ*Ω/2)*(σ+σ.dag())-ħ*δ*e*e.dag()"
   ]
  },
  {
   "cell_type": "code",
   "execution_count": 84,
   "id": "09855c78",
   "metadata": {},
   "outputs": [],
   "source": [
    "ρm = []\n",
    "ρp = []\n",
    "for i in range(len(v)):\n",
    "    ρm.append(qt.steadystate(H(Ω,δm[i]), [L]))\n",
    "    ρp.append(qt.steadystate(H(Ω,δp[i]), [L]))"
   ]
  },
  {
   "cell_type": "code",
   "execution_count": 85,
   "id": "67cb5b3a",
   "metadata": {},
   "outputs": [
    {
     "data": {
      "text/latex": [
       "Quantum object: dims = [[2], [2]], shape = (2, 2), type = oper, isherm = True\\begin{equation*}\\left(\\begin{array}{*{11}c}0.918 & (-0.234+0.117j)\\\\(-0.234-0.117j) & 0.082\\\\\\end{array}\\right)\\end{equation*}"
      ],
      "text/plain": [
       "Quantum object: dims = [[2], [2]], shape = (2, 2), type = oper, isherm = True\n",
       "Qobj data =\n",
       "[[ 0.9180602 +0.j         -0.23411371+0.11705686j]\n",
       " [-0.23411371-0.11705686j  0.0819398 +0.j        ]]"
      ]
     },
     "execution_count": 85,
     "metadata": {},
     "output_type": "execute_result"
    }
   ],
   "source": [
    "ρm[50]   # Es para v=0 y es igual a ρp[500]"
   ]
  },
  {
   "cell_type": "code",
   "execution_count": 86,
   "id": "dcac911f",
   "metadata": {},
   "outputs": [],
   "source": [
    "ρee = (Ω/Γ)**2/(1+(2*δ/Γ)**2+2*(Ω/Γ)**2)\n",
    "ρeg = -1j*(Ω/Γ)*(1+2j*δ/Γ)/(1+(2*δ/Γ)**2+2*(Ω/Γ)**2)"
   ]
  },
  {
   "cell_type": "code",
   "execution_count": 87,
   "id": "ed010e59",
   "metadata": {},
   "outputs": [
    {
     "data": {
      "text/latex": [
       "Quantum object: dims = [[2], [2]], shape = (2, 2), type = oper, isherm = True\\begin{equation*}\\left(\\begin{array}{*{11}c}0.945 & (-0.156+0.156j)\\\\(-0.156-0.156j) & 0.055\\\\\\end{array}\\right)\\end{equation*}"
      ],
      "text/plain": [
       "Quantum object: dims = [[2], [2]], shape = (2, 2), type = oper, isherm = True\n",
       "Qobj data =\n",
       "[[ 0.9454343+0.j       -0.155902 +0.155902j]\n",
       " [-0.155902 -0.155902j  0.0545657+0.j      ]]"
      ]
     },
     "execution_count": 87,
     "metadata": {},
     "output_type": "execute_result"
    }
   ],
   "source": [
    "qt.Qobj([[1-ρee,np.conj(ρeg)],[ρeg,ρee]])"
   ]
  },
  {
   "cell_type": "code",
   "execution_count": 9,
   "id": "97ff3505",
   "metadata": {},
   "outputs": [],
   "source": [
    "Fopm = []\n",
    "Fopp = []\n",
    "for i in range(len(v)):\n",
    "    Fopm.append((1j/ħ)*qt.commutator(H(Ω,δm[i]), qt.momentum(2)))\n",
    "    Fopp.append((1j/ħ)*qt.commutator(H(Ω,δp[i]), qt.momentum(2)))"
   ]
  },
  {
   "cell_type": "code",
   "execution_count": 10,
   "id": "02ccfb3d",
   "metadata": {},
   "outputs": [],
   "source": [
    "F = []\n",
    "for i in range(len(v)):\n",
    "    F.append(-(ρm[i]*Fopm[i]).tr()+(ρp[i]*Fopp[i]).tr())"
   ]
  },
  {
   "cell_type": "code",
   "execution_count": 11,
   "id": "f53958eb",
   "metadata": {},
   "outputs": [],
   "source": [
    "Fa = (ħ*k*Ω**2/Γ)*(1/(1+2*Ω**2/Γ**2+4*δm**2/Γ**2)-1/(1+2*Ω**2/Γ**2+4*δp**2/Γ**2))"
   ]
  },
  {
   "cell_type": "code",
   "execution_count": 13,
   "id": "20de5305",
   "metadata": {},
   "outputs": [
    {
     "data": {
      "image/png": "[encoded data removed]",
      "text/plain": [
       "<Figure size 432x288 with 1 Axes>"
      ]
     },
     "metadata": {
      "needs_background": "light"
     },
     "output_type": "display_data"
    }
   ],
   "source": [
    "plt.plot(v,F)\n",
    "plt.plot(v,Fa, color='green')\n",
    "plt.show()"
   ]
  },
  {
   "cell_type": "code",
   "execution_count": null,
   "id": "9f931ead",
   "metadata": {},
   "outputs": [],
   "source": []
  }
 ],
 "metadata": {
  "kernelspec": {
   "display_name": "Python 3 (ipykernel)",
   "language": "python",
   "name": "python3"
  },
  "language_info": {
   "codemirror_mode": {
    "name": "ipython",
    "version": 3
   },
   "file_extension": ".py",
   "mimetype": "text/x-python",
   "name": "python",
   "nbconvert_exporter": "python",
   "pygments_lexer": "ipython3",
   "version": "3.9.7"
  }
 },
 "nbformat": 4,
 "nbformat_minor": 5
}
